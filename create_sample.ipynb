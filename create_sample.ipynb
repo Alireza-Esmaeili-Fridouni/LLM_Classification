{
 "cells": [
  {
   "cell_type": "code",
   "execution_count": null,
   "metadata": {
    "id": "4op_cGgY_Fau"
   },
   "outputs": [],
   "source": [
    "import polars as pl\n",
    "import pandas as pd\n",
    "import numpy as np\n",
    "from sklearn.model_selection import train_test_split"
   ]
  },
  {
   "cell_type": "code",
   "execution_count": null,
   "metadata": {
    "id": "1Wy6IDMf_Qo9"
   },
   "outputs": [],
   "source": [
    "df = pl.read_csv('hf://datasets/knowledgator/Scientific-text-classification/**/train.csv')\n",
    "df = df.to_pandas()"
   ]
  },
  {
   "cell_type": "code",
   "execution_count": null,
   "metadata": {
    "id": "IN5FMQLU_S_x"
   },
   "outputs": [],
   "source": [
    "top_label = df['label'].value_counts().head(6).index\n",
    "filtered_df = df[df['label'].isin(top_label)]\n",
    "# weights = filtered_df['label'].value_counts(normalize=False)\n",
    "np.random.seed(15)\n",
    "weights = np.random.dirichlet(np.random.randint(1, 7, size=6))\n",
    "lebel_weights = pd.Series(weights, index=top_label)\n",
    "row_wights = filtered_df['label'].map(lebel_weights)\n",
    "sample = (filtered_df.sample(n=1800, weights=row_wights, random_state=42)).reset_index(drop=True)"
   ]
  },
  {
   "cell_type": "code",
   "execution_count": null,
   "metadata": {
    "id": "e3BjJJcP_WSg"
   },
   "outputs": [],
   "source": [
    "sample.value_counts('label')"
   ]
  },
  {
   "cell_type": "code",
   "execution_count": null,
   "metadata": {
    "id": "PxjLf3Um_W44"
   },
   "outputs": [],
   "source": [
    "train_df, test_df = train_test_split(sample, test_size=0.25, random_state=42)"
   ]
  },
  {
   "cell_type": "code",
   "execution_count": null,
   "metadata": {
    "id": "7_FhZw8E_d9j"
   },
   "outputs": [],
   "source": [
    "train_df.to_csv('train.csv', index=False)\n",
    "test_df.to_csv('test.csv', index=False)"
   ]
  },
  {
   "cell_type": "code",
   "execution_count": null,
   "metadata": {
    "id": "IrtPm9za_cAO"
   },
   "outputs": [],
   "source": [
    "# train = pd.read_csv('train.csv')\n",
    "# val = pd.read_csv('val.csv')\n",
    "# concat = pd.concat([train,val])\n",
    "# sampled_rows_set = set([tuple(row) for row in concat.values.tolist()])\n",
    "\n",
    "# remaining_rows = filtered_df[~filtered_df.apply(lambda row: tuple(row) in sampled_rows_set, axis=1)]\n",
    "\n",
    "# row_weights_remaining = remaining_rows['label'].map(lebel_weights)\n",
    "# new_sample = remaining_rows.sample(n=100, weights=row_weights_remaining, random_state=24).reset_index(drop=True)\n",
    "# new_sample.to_csv('new_sample.csv', index=False)"
   ]
  }
 ],
 "metadata": {
  "colab": {
   "authorship_tag": "ABX9TyOZki/TqVUkDpqUvMZNa1tE",
   "provenance": []
  },
  "kernelspec": {
   "display_name": "Python 3",
   "name": "python3"
  },
  "language_info": {
   "name": "python"
  }
 },
 "nbformat": 4,
 "nbformat_minor": 0
}
